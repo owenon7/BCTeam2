{
 "cells": [
  {
   "cell_type": "code",
   "execution_count": 1,
   "metadata": {},
   "outputs": [],
   "source": [
    "import pandas as pd\n",
    "import matplotlib.pyplot as plt\n",
    "import pandas as pd\n",
    "%matplotlib inline\n",
    "import numpy as np\n",
    "import numpy as np\n",
    "import seaborn as sns\n",
    "from statistics import mean\n",
    "\n",
    "import glob\n",
    "import csv\n"
   ]
  },
  {
   "cell_type": "code",
   "execution_count": 2,
   "metadata": {},
   "outputs": [],
   "source": [
    "data1 = pd.read_csv('12aabqtowt_tc4tl20.csv')\n",
    "data2 = pd.read_csv('12aaockxdf_tc4tl20.csv')\n",
    "data3 = pd.read_csv('12abfzrgel_tc4tl20.csv')\n",
    "data12 = pd.concat([data1, data2, data3])\n",
    "data4 = pd.read_csv('18aaadbuvp_tc4tl20.csv')\n",
    "data5 = pd.read_csv('18aadkjwss_tc4tl20.csv')\n",
    "data6 = pd.read_csv('18aafzrgzt_tc4tl20.csv')\n",
    "data18 = pd.concat([data4, data5, data6])\n",
    "data7 = pd.read_csv('3aaamkcii_tc4tl20.csv')\n",
    "data8 = pd.read_csv('3aajtgeuo_tc4tl20.csv')\n",
    "data9 = pd.read_csv('3aamloaan_tc4tl20.csv')\n",
    "data30 = pd.concat([data7, data8, data9])\n",
    "data10 = pd.read_csv('45aagsvrpi_tc4tl20.csv')\n",
    "data11 = pd.read_csv('45aahiguvq_tc4tl20.csv')\n",
    "data12x = pd.read_csv('45aajxgoxc_tc4tl20.csv')\n",
    "data45 = pd.concat([data10, data11, data12x])"
   ]
  },
  {
   "cell_type": "code",
   "execution_count": 3,
   "metadata": {},
   "outputs": [
    {
     "name": "stdout",
     "output_type": "stream",
     "text": [
      "\n",
      "['Acc3', 'Att1', 'Att2', 'Gra1', 'Gra2', 'Gra3', 'Mag3', 'Hea2', 'Hea4', 'Hea5', 'Hea6']\n"
     ]
    }
   ],
   "source": [
    "cor_matrix = data12.corr().abs()\n",
    "upper_tri = cor_matrix.where(np.triu(np.ones(cor_matrix.shape),k=1).astype(np.bool))\n",
    "to_drop = [column for column in upper_tri.columns if any(upper_tri[column] > 0.75)]\n",
    "print(); print(to_drop)"
   ]
  },
  {
   "cell_type": "code",
   "execution_count": 4,
   "metadata": {},
   "outputs": [
    {
     "name": "stdout",
     "output_type": "stream",
     "text": [
      "\n",
      "['Acc3', 'Att1', 'Att2', 'Gra1', 'Gra2', 'Gra3', 'Mag3', 'Alt2', 'Hea1', 'Hea2', 'Hea3', 'Hea4', 'Hea5']\n"
     ]
    }
   ],
   "source": [
    "cor_matrix = data18.corr().abs()\n",
    "upper_tri = cor_matrix.where(np.triu(np.ones(cor_matrix.shape),k=1).astype(np.bool))\n",
    "to_drop = [column for column in upper_tri.columns if any(upper_tri[column] > 0.75)]\n",
    "print(); print(to_drop)"
   ]
  },
  {
   "cell_type": "code",
   "execution_count": 5,
   "metadata": {},
   "outputs": [
    {
     "name": "stdout",
     "output_type": "stream",
     "text": [
      "\n",
      "['Att1', 'Gra1', 'Gra2', 'Gra3', 'Mag1', 'Mag2', 'Mag3', 'Alt2', 'Hea2', 'Hea3', 'Hea5', 'Hea6']\n"
     ]
    }
   ],
   "source": [
    "cor_matrix = data30.corr().abs()\n",
    "upper_tri = cor_matrix.where(np.triu(np.ones(cor_matrix.shape),k=1).astype(np.bool))\n",
    "to_drop = [column for column in upper_tri.columns if any(upper_tri[column] > 0.75)]\n",
    "print(); print(to_drop)"
   ]
  },
  {
   "cell_type": "code",
   "execution_count": 6,
   "metadata": {},
   "outputs": [
    {
     "name": "stdout",
     "output_type": "stream",
     "text": [
      "\n",
      "['Acc3', 'Att1', 'Att2', 'Gra1', 'Gra2', 'Gra3', 'Mag2', 'Mag3', 'Alt2', 'Hea1', 'Hea2', 'Hea3', 'Hea4', 'Hea6']\n"
     ]
    }
   ],
   "source": [
    "cor_matrix = data45.corr().abs()\n",
    "upper_tri = cor_matrix.where(np.triu(np.ones(cor_matrix.shape),k=1).astype(np.bool))\n",
    "to_drop = [column for column in upper_tri.columns if any(upper_tri[column] > 0.75)]\n",
    "print(); print(to_drop)"
   ]
  },
  {
   "cell_type": "code",
   "execution_count": 7,
   "metadata": {},
   "outputs": [],
   "source": [
    "data12 = data12.drop(data12[['Acc3', 'Att1', 'Att2', 'Gra1', 'Gra2', 'Gra3', 'Mag2', 'Mag3', \n",
    " 'Alt2', 'Hea1', 'Hea2', 'Hea3', 'Hea4', 'Hea5', 'Hea6']], axis=1) \n",
    "data18 = data18.drop(data18[['Acc3', 'Att1', 'Att2', 'Gra1', 'Gra2', 'Gra3', 'Mag2', 'Mag3', \n",
    " 'Alt2', 'Hea1', 'Hea2', 'Hea3', 'Hea4', 'Hea5', 'Hea6']], axis=1) \n",
    "data30 = data30.drop(data30[['Acc3', 'Att1', 'Att2', 'Gra1', 'Gra2', 'Gra3', 'Mag2', 'Mag3', \n",
    " 'Alt2', 'Hea1', 'Hea2', 'Hea3', 'Hea4', 'Hea5', 'Hea6']], axis=1) \n",
    "data45 = data45.drop(data45[['Acc3', 'Att1', 'Att2', 'Gra1', 'Gra2', 'Gra3', 'Mag2', 'Mag3', \n",
    " 'Alt2', 'Hea1', 'Hea2', 'Hea3', 'Hea4', 'Hea5', 'Hea6']], axis=1) "
   ]
  },
  {
   "cell_type": "code",
   "execution_count": 8,
   "metadata": {},
   "outputs": [
    {
     "data": {
      "text/html": [
       "<div>\n",
       "<style scoped>\n",
       "    .dataframe tbody tr th:only-of-type {\n",
       "        vertical-align: middle;\n",
       "    }\n",
       "\n",
       "    .dataframe tbody tr th {\n",
       "        vertical-align: top;\n",
       "    }\n",
       "\n",
       "    .dataframe thead th {\n",
       "        text-align: right;\n",
       "    }\n",
       "</style>\n",
       "<table border=\"1\" class=\"dataframe\">\n",
       "  <thead>\n",
       "    <tr style=\"text-align: right;\">\n",
       "      <th></th>\n",
       "      <th>Time</th>\n",
       "      <th>BT</th>\n",
       "      <th>Acc1</th>\n",
       "      <th>Acc2</th>\n",
       "      <th>Gyr1</th>\n",
       "      <th>Gyr2</th>\n",
       "      <th>Gyr3</th>\n",
       "      <th>Att3</th>\n",
       "      <th>Mag1</th>\n",
       "      <th>Mag4</th>\n",
       "      <th>Alt1</th>\n",
       "    </tr>\n",
       "  </thead>\n",
       "  <tbody>\n",
       "    <tr>\n",
       "      <th>0</th>\n",
       "      <td>0.000</td>\n",
       "      <td>-54</td>\n",
       "      <td>0.057175</td>\n",
       "      <td>-0.793839</td>\n",
       "      <td>0.036267</td>\n",
       "      <td>-0.071914</td>\n",
       "      <td>-0.028208</td>\n",
       "      <td>2.436621</td>\n",
       "      <td>-17.339355</td>\n",
       "      <td>high</td>\n",
       "      <td>0.103050</td>\n",
       "    </tr>\n",
       "    <tr>\n",
       "      <th>1</th>\n",
       "      <td>0.002</td>\n",
       "      <td>-53</td>\n",
       "      <td>0.057175</td>\n",
       "      <td>-0.793839</td>\n",
       "      <td>0.036267</td>\n",
       "      <td>-0.071914</td>\n",
       "      <td>-0.028208</td>\n",
       "      <td>2.436621</td>\n",
       "      <td>-17.339355</td>\n",
       "      <td>high</td>\n",
       "      <td>0.103050</td>\n",
       "    </tr>\n",
       "    <tr>\n",
       "      <th>2</th>\n",
       "      <td>0.124</td>\n",
       "      <td>-53</td>\n",
       "      <td>0.057175</td>\n",
       "      <td>-0.793839</td>\n",
       "      <td>0.036267</td>\n",
       "      <td>-0.071914</td>\n",
       "      <td>-0.028208</td>\n",
       "      <td>2.436621</td>\n",
       "      <td>-17.339355</td>\n",
       "      <td>high</td>\n",
       "      <td>0.103050</td>\n",
       "    </tr>\n",
       "    <tr>\n",
       "      <th>3</th>\n",
       "      <td>0.126</td>\n",
       "      <td>-53</td>\n",
       "      <td>0.057175</td>\n",
       "      <td>-0.793839</td>\n",
       "      <td>0.036267</td>\n",
       "      <td>-0.071914</td>\n",
       "      <td>-0.028208</td>\n",
       "      <td>2.436621</td>\n",
       "      <td>-17.339355</td>\n",
       "      <td>high</td>\n",
       "      <td>0.103050</td>\n",
       "    </tr>\n",
       "    <tr>\n",
       "      <th>4</th>\n",
       "      <td>0.157</td>\n",
       "      <td>-53</td>\n",
       "      <td>0.057175</td>\n",
       "      <td>-0.793839</td>\n",
       "      <td>0.036267</td>\n",
       "      <td>-0.071914</td>\n",
       "      <td>-0.028208</td>\n",
       "      <td>2.436621</td>\n",
       "      <td>-17.339355</td>\n",
       "      <td>high</td>\n",
       "      <td>0.103050</td>\n",
       "    </tr>\n",
       "    <tr>\n",
       "      <th>...</th>\n",
       "      <td>...</td>\n",
       "      <td>...</td>\n",
       "      <td>...</td>\n",
       "      <td>...</td>\n",
       "      <td>...</td>\n",
       "      <td>...</td>\n",
       "      <td>...</td>\n",
       "      <td>...</td>\n",
       "      <td>...</td>\n",
       "      <td>...</td>\n",
       "      <td>...</td>\n",
       "    </tr>\n",
       "    <tr>\n",
       "      <th>1425</th>\n",
       "      <td>262.572</td>\n",
       "      <td>-45</td>\n",
       "      <td>-0.021042</td>\n",
       "      <td>-0.376450</td>\n",
       "      <td>0.108265</td>\n",
       "      <td>-0.022879</td>\n",
       "      <td>-0.081553</td>\n",
       "      <td>-2.978703</td>\n",
       "      <td>-28.022202</td>\n",
       "      <td>high</td>\n",
       "      <td>-0.058131</td>\n",
       "    </tr>\n",
       "    <tr>\n",
       "      <th>1426</th>\n",
       "      <td>262.573</td>\n",
       "      <td>-45</td>\n",
       "      <td>-0.021042</td>\n",
       "      <td>-0.376450</td>\n",
       "      <td>0.108265</td>\n",
       "      <td>-0.022879</td>\n",
       "      <td>-0.081553</td>\n",
       "      <td>-2.978703</td>\n",
       "      <td>-28.022202</td>\n",
       "      <td>high</td>\n",
       "      <td>-0.058131</td>\n",
       "    </tr>\n",
       "    <tr>\n",
       "      <th>1427</th>\n",
       "      <td>262.574</td>\n",
       "      <td>-45</td>\n",
       "      <td>-0.021042</td>\n",
       "      <td>-0.376450</td>\n",
       "      <td>0.108265</td>\n",
       "      <td>-0.022879</td>\n",
       "      <td>-0.081553</td>\n",
       "      <td>-2.978703</td>\n",
       "      <td>-27.732965</td>\n",
       "      <td>high</td>\n",
       "      <td>-0.058131</td>\n",
       "    </tr>\n",
       "    <tr>\n",
       "      <th>1428</th>\n",
       "      <td>262.582</td>\n",
       "      <td>-45</td>\n",
       "      <td>-0.021042</td>\n",
       "      <td>-0.376450</td>\n",
       "      <td>0.108265</td>\n",
       "      <td>-0.022879</td>\n",
       "      <td>-0.081553</td>\n",
       "      <td>-2.978703</td>\n",
       "      <td>-27.732965</td>\n",
       "      <td>high</td>\n",
       "      <td>-0.058131</td>\n",
       "    </tr>\n",
       "    <tr>\n",
       "      <th>1429</th>\n",
       "      <td>262.585</td>\n",
       "      <td>-45</td>\n",
       "      <td>-0.021042</td>\n",
       "      <td>-0.376450</td>\n",
       "      <td>0.108265</td>\n",
       "      <td>-0.022879</td>\n",
       "      <td>-0.081553</td>\n",
       "      <td>-2.978703</td>\n",
       "      <td>-27.732965</td>\n",
       "      <td>high</td>\n",
       "      <td>-0.058131</td>\n",
       "    </tr>\n",
       "  </tbody>\n",
       "</table>\n",
       "<p>3732 rows × 11 columns</p>\n",
       "</div>"
      ],
      "text/plain": [
       "         Time  BT      Acc1      Acc2      Gyr1      Gyr2      Gyr3      Att3  \\\n",
       "0       0.000 -54  0.057175 -0.793839  0.036267 -0.071914 -0.028208  2.436621   \n",
       "1       0.002 -53  0.057175 -0.793839  0.036267 -0.071914 -0.028208  2.436621   \n",
       "2       0.124 -53  0.057175 -0.793839  0.036267 -0.071914 -0.028208  2.436621   \n",
       "3       0.126 -53  0.057175 -0.793839  0.036267 -0.071914 -0.028208  2.436621   \n",
       "4       0.157 -53  0.057175 -0.793839  0.036267 -0.071914 -0.028208  2.436621   \n",
       "...       ...  ..       ...       ...       ...       ...       ...       ...   \n",
       "1425  262.572 -45 -0.021042 -0.376450  0.108265 -0.022879 -0.081553 -2.978703   \n",
       "1426  262.573 -45 -0.021042 -0.376450  0.108265 -0.022879 -0.081553 -2.978703   \n",
       "1427  262.574 -45 -0.021042 -0.376450  0.108265 -0.022879 -0.081553 -2.978703   \n",
       "1428  262.582 -45 -0.021042 -0.376450  0.108265 -0.022879 -0.081553 -2.978703   \n",
       "1429  262.585 -45 -0.021042 -0.376450  0.108265 -0.022879 -0.081553 -2.978703   \n",
       "\n",
       "           Mag1  Mag4      Alt1  \n",
       "0    -17.339355  high  0.103050  \n",
       "1    -17.339355  high  0.103050  \n",
       "2    -17.339355  high  0.103050  \n",
       "3    -17.339355  high  0.103050  \n",
       "4    -17.339355  high  0.103050  \n",
       "...         ...   ...       ...  \n",
       "1425 -28.022202  high -0.058131  \n",
       "1426 -28.022202  high -0.058131  \n",
       "1427 -27.732965  high -0.058131  \n",
       "1428 -27.732965  high -0.058131  \n",
       "1429 -27.732965  high -0.058131  \n",
       "\n",
       "[3732 rows x 11 columns]"
      ]
     },
     "execution_count": 8,
     "metadata": {},
     "output_type": "execute_result"
    }
   ],
   "source": [
    "data12"
   ]
  },
  {
   "cell_type": "code",
   "execution_count": 28,
   "metadata": {},
   "outputs": [
    {
     "data": {
      "image/png": "[encoded data removed]",
      "text/plain": [
       "<Figure size 360x360 with 1 Axes>"
      ]
     },
     "metadata": {
      "needs_background": "light"
     },
     "output_type": "display_data"
    }
   ],
   "source": [
    "plt.figure(figsize = (5,5))\n",
    "sns.kdeplot(data12['Gyr1'] , bw = 0.5)\n",
    "sns.kdeplot(data18['Gyr1'] , bw = 0.5)\n",
    "sns.kdeplot(data30['Gyr1'] , bw = 0.5)\n",
    "sns.kdeplot(data45['Gyr1'] , bw = 0.5)\n",
    "#plt.ylim(0.7,0.8)\n",
    "#plt.xlim(-0.5,0.5)\n",
    "plt.show()"
   ]
  },
  {
   "cell_type": "code",
   "execution_count": 27,
   "metadata": {},
   "outputs": [
    {
     "data": {
      "image/png": "[encoded data removed]",
      "text/plain": [
       "<Figure size 360x360 with 1 Axes>"
      ]
     },
     "metadata": {
      "needs_background": "light"
     },
     "output_type": "display_data"
    }
   ],
   "source": [
    "plt.figure(figsize = (5,5))\n",
    "sns.kdeplot(data12['Acc1'] , bw = 0.5)\n",
    "sns.kdeplot(data18['Acc1'] , bw = 0.5)\n",
    "sns.kdeplot(data30['Acc1'] , bw = 0.5)\n",
    "sns.kdeplot(data45['Acc1'] , bw = 0.5)\n",
    "plt.ylim(0.6,0.8)\n",
    "plt.xlim(-0.5,0.5)\n",
    "plt.show()"
   ]
  },
  {
   "cell_type": "code",
   "execution_count": null,
   "metadata": {},
   "outputs": [],
   "source": []
  }
 ],
 "metadata": {
  "kernelspec": {
   "display_name": "Python 3",
   "language": "python",
   "name": "python3"
  },
  "language_info": {
   "codemirror_mode": {
    "name": "ipython",
    "version": 3
   },
   "file_extension": ".py",
   "mimetype": "text/x-python",
   "name": "python",
   "nbconvert_exporter": "python",
   "pygments_lexer": "ipython3",
   "version": "3.7.6"
  }
 },
 "nbformat": 4,
 "nbformat_minor": 4
}
